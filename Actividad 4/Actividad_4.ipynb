{
 "cells": [
  {
   "cell_type": "code",
   "execution_count": 14,
   "id": "714fb25c",
   "metadata": {},
   "outputs": [
    {
     "name": "stdout",
     "output_type": "stream",
     "text": [
      "Datos cargados exitosamente:\n",
      "   PassengerId  Survived  Pclass  \\\n",
      "0            1         0       3   \n",
      "1            2         1       1   \n",
      "2            3         1       3   \n",
      "3            4         1       1   \n",
      "4            5         0       3   \n",
      "\n",
      "                                                Name     Sex   Age  SibSp  \\\n",
      "0                            Braund, Mr. Owen Harris    male  22.0      1   \n",
      "1  Cumings, Mrs. John Bradley (Florence Briggs Th...  female  38.0      1   \n",
      "2                             Heikkinen, Miss. Laina  female  26.0      0   \n",
      "3       Futrelle, Mrs. Jacques Heath (Lily May Peel)  female  35.0      1   \n",
      "4                           Allen, Mr. William Henry    male  35.0      0   \n",
      "\n",
      "   Parch            Ticket     Fare Cabin Embarked  \n",
      "0      0         A/5 21171   7.2500   NaN        S  \n",
      "1      0          PC 17599  71.2833   C85        C  \n",
      "2      0  STON/O2. 3101282   7.9250   NaN        S  \n",
      "3      0            113803  53.1000  C123        S  \n",
      "4      0            373450   8.0500   NaN        S  \n"
     ]
    }
   ],
   "source": [
    "import pandas as pd\n",
    "\n",
    "def ejercicio1(ruta):\n",
    "    \n",
    "    try:\n",
    "        dataframe = pd.read_csv(ruta)\n",
    "        return dataframe\n",
    "    except Exception as e:\n",
    "        print(f\"Error al cargar el archivo: {e}\")\n",
    "        return None\n",
    "\n",
    "ruta_titanic = \"titanic.csv\" \n",
    "titanic_data = ejercicio1(ruta_titanic)\n",
    "\n",
    "if titanic_data is not None:\n",
    "    print(\"Datos cargados exitosamente:\")\n",
    "    print(titanic_data.head())\n",
    "else:\n",
    "    print(\"Error al cargar los datos.\")"
   ]
  },
  {
   "cell_type": "code",
   "execution_count": 15,
   "id": "b246ee7c",
   "metadata": {},
   "outputs": [
    {
     "name": "stdout",
     "output_type": "stream",
     "text": [
      "Resultado del ejercicio 2:\n",
      "    PassengerId  Survived  Pclass  \\\n",
      "0             1         0       3   \n",
      "2             3         1       3   \n",
      "7             8         0       3   \n",
      "8             9         1       3   \n",
      "10           11         1       3   \n",
      "\n",
      "                                                 Name     Sex   Age  SibSp  \\\n",
      "0                             Braund, Mr. Owen Harris    male  22.0      1   \n",
      "2                              Heikkinen, Miss. Laina  female  26.0      0   \n",
      "7                      Palsson, Master. Gosta Leonard    male   2.0      3   \n",
      "8   Johnson, Mrs. Oscar W (Elisabeth Vilhelmina Berg)  female  27.0      0   \n",
      "10                    Sandstrom, Miss. Marguerite Rut  female   4.0      1   \n",
      "\n",
      "    Parch            Ticket     Fare Cabin Embarked  \n",
      "0       0         A/5 21171   7.2500   NaN        S  \n",
      "2       0  STON/O2. 3101282   7.9250   NaN        S  \n",
      "7       1            349909  21.0750   NaN        S  \n",
      "8       2            347742  11.1333   NaN        S  \n",
      "10      1           PP 9549  16.7000    G6        S  \n"
     ]
    }
   ],
   "source": [
    "def ejercicio2(dataframe):\n",
    "    \n",
    "    filtro_edad = dataframe['Age'] < 35\n",
    "    filtro_clase = dataframe['Pclass'] == 3\n",
    "    resultado = dataframe[filtro_edad & filtro_clase]\n",
    "    \n",
    "    return resultado\n",
    "\n",
    "ruta_titanic = \"titanic.csv\"  \n",
    "titanic_data = ejercicio1(ruta_titanic)\n",
    "\n",
    "if titanic_data is not None:\n",
    "    resultado_ejercicio2 = ejercicio2(titanic_data)\n",
    "\n",
    "    print(\"Resultado del ejercicio 2:\")\n",
    "    print(resultado_ejercicio2.head())\n",
    "else:\n",
    "    print(\"Error al cargar los datos.\")"
   ]
  },
  {
   "cell_type": "code",
   "execution_count": 16,
   "id": "032f8943",
   "metadata": {},
   "outputs": [
    {
     "name": "stdout",
     "output_type": "stream",
     "text": [
      "Porcentaje de personas que sobrevivieron: 38.38%\n"
     ]
    }
   ],
   "source": [
    "def ejercicio3(dataframe):\n",
    "    \n",
    "    porcentaje_sobrevivientes = (dataframe['Survived'].sum() / len(dataframe)) * 100\n",
    "    porcentaje_sobrevivientes = round(porcentaje_sobrevivientes, 2)\n",
    "    \n",
    "    return porcentaje_sobrevivientes\n",
    "\n",
    "ruta_titanic = \"titanic.csv\"\n",
    "titanic_data = ejercicio1(ruta_titanic)\n",
    "\n",
    "if titanic_data is not None:\n",
    "    resultado_ejercicio3 = ejercicio3(titanic_data)\n",
    "\n",
    "    print(f\"Porcentaje de personas que sobrevivieron: {resultado_ejercicio3}%\")\n",
    "else:\n",
    "    print(\"Error al cargar los datos.\")"
   ]
  },
  {
   "cell_type": "code",
   "execution_count": 7,
   "id": "46279ae1",
   "metadata": {},
   "outputs": [
    {
     "name": "stdout",
     "output_type": "stream",
     "text": [
      "Porcentaje de hombres y mujeres:\n",
      "Hombres: 64.76%\n",
      "Mujeres: 35.24%\n"
     ]
    }
   ],
   "source": [
    "def ejercicio4(dataframe):\n",
    "    \n",
    "    total_pasajeros = len(dataframe)\n",
    "    \n",
    "    hombres = dataframe[dataframe['Sex'] == 'male']\n",
    "    mujeres = dataframe[dataframe['Sex'] == 'female']\n",
    "    \n",
    "    porcentaje_hombres = (len(hombres) / total_pasajeros) * 100\n",
    "    porcentaje_mujeres = (len(mujeres) / total_pasajeros) * 100\n",
    "    \n",
    "    porcentaje_hombres = round(porcentaje_hombres, 2)\n",
    "    porcentaje_mujeres = round(porcentaje_mujeres, 2)\n",
    "    \n",
    "    return (porcentaje_hombres, porcentaje_mujeres)\n",
    "\n",
    "ruta_titanic = \"titanic.csv\" \n",
    "titanic_data = ejercicio1(ruta_titanic)\n",
    "\n",
    "if titanic_data is not None:\n",
    "    resultado_ejercicio4 = ejercicio4(titanic_data)\n",
    "\n",
    "    print(f\"Porcentaje de hombres y mujeres:\")\n",
    "    print(f\"Hombres: {resultado_ejercicio4[0]}%\")\n",
    "    print(f\"Mujeres: {resultado_ejercicio4[1]}%\")\n",
    "else:\n",
    "    print(\"Error al cargar los datos.\")"
   ]
  },
  {
   "cell_type": "code",
   "execution_count": 13,
   "id": "79401b29",
   "metadata": {},
   "outputs": [
    {
     "name": "stdout",
     "output_type": "stream",
     "text": [
      "Número de pasajeros por clase:\n",
      "1ª Clase: 216 pasajeros\n",
      "2ª Clase: 184 pasajeros\n",
      "3ª Clase: 491 pasajeros\n"
     ]
    }
   ],
   "source": [
    "def ejercicio5(dataframe):\n",
    "   \n",
    "    pasajeros_por_clase = dataframe['Pclass'].value_counts().sort_index().tolist()\n",
    "    \n",
    "    return pasajeros_por_clase\n",
    "\n",
    "ruta_titanic = \"titanic.csv\" \n",
    "titanic_data = ejercicio1(ruta_titanic)\n",
    "\n",
    "if titanic_data is not None:\n",
    "    resultado_ejercicio5 = ejercicio5(titanic_data)\n",
    "\n",
    "    print(\"Número de pasajeros por clase:\")\n",
    "    print(f\"1ª Clase: {resultado_ejercicio5[0]} pasajeros\")\n",
    "    print(f\"2ª Clase: {resultado_ejercicio5[1]} pasajeros\")\n",
    "    print(f\"3ª Clase: {resultado_ejercicio5[2]} pasajeros\")\n",
    "else:\n",
    "    print(\"Error al cargar los datos.\")"
   ]
  }
 ],
 "metadata": {
  "kernelspec": {
   "display_name": "Python 3 (ipykernel)",
   "language": "python",
   "name": "python3"
  },
  "language_info": {
   "codemirror_mode": {
    "name": "ipython",
    "version": 3
   },
   "file_extension": ".py",
   "mimetype": "text/x-python",
   "name": "python",
   "nbconvert_exporter": "python",
   "pygments_lexer": "ipython3",
   "version": "3.11.5"
  }
 },
 "nbformat": 4,
 "nbformat_minor": 5
}
