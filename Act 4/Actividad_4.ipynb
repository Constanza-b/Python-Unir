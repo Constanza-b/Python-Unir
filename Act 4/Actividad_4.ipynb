{
 "cells": [
  {
   "cell_type": "markdown",
   "metadata": {},
   "source": [
    "## Ejercicio 1\n",
    "\n",
    "Crea una función llamada ejercicio1, que recibe la ruta donde se encuentra un dataset y devuelve una DataFrame con los datos que hay en el dataset. Para comprobar esta función utiliza el dataset `titanic.csv` que se incluye en esta actividad."
   ]
  },
  {
   "cell_type": "code",
   "execution_count": 1,
   "metadata": {},
   "outputs": [],
   "source": [
    "import pandas\n",
    "\n",
    "def ejercicio1(data):\n",
    "    return pandas.read_csv(data)"
   ]
  },
  {
   "cell_type": "markdown",
   "metadata": {},
   "source": [
    "## Ejercicio 2\n",
    "\n",
    "Crea otra función llamada ejercicio2. Esta función recibe un único argumento que es un dataframe. En concreto debe recibir el dataframe que se ha obtenido de leer el dataset `titanic.csv`. Esta función devolverá otro dataset que incluya únicamente a los pasajeros menores de 35 años y que viajaban en 3ª clase."
   ]
  },
  {
   "cell_type": "code",
   "execution_count": 2,
   "metadata": {},
   "outputs": [],
   "source": [
    "def ejercicio2(dataframe):\n",
    "    filtro = dataframe[(dataframe.Age < 35 ) & (dataframe.Pclass == 3)]\n",
    "    return filtro"
   ]
  },
  {
   "cell_type": "markdown",
   "metadata": {},
   "source": [
    "## Ejercicio 3\n",
    "\n",
    "Crea una función llamada ejercicio3, que recibiendo como argumento el dataframe del dataset `titanic.csv`, calcule el porcentaje de persona que sobrevieron. Redondee el resultado al segundo decimal."
   ]
  },
  {
   "cell_type": "code",
   "execution_count": null,
   "metadata": {},
   "outputs": [],
   "source": [
    "def ejercicio3(DataFrame):\n",
    "    registros = DataFrame.Survived.count()\n",
    "    sobrevivientes = DataFrame.Survived[(DataFrame.Survived == 1)].count() -99\n",
    "    pasajeros_supervivientes = sobrevivientes / registros * 100\n",
    "    return pasajeros_supervivientes"
   ]
  },
  {
   "cell_type": "markdown",
   "metadata": {},
   "source": [
    "## Ejercicio 4\n",
    "\n",
    "Implementa una función llamada ejercicio4 que recibiendo el dataframe con los datos del Titanic, devuelva en una tupla el porcentaje de hombres y mujeres que viajaban en el Titanic, redondeados al segundo decimal."
   ]
  },
  {
   "cell_type": "code",
   "execution_count": 28,
   "metadata": {},
   "outputs": [],
   "source": [
    "def ejercicio4(DataFrame):\n",
    "    total_registros = DataFrame.Survived.count()\n",
    "    hombres = DataFrame[DataFrame.Sex == \"male\"].Sex.count()\n",
    "    mujeres = DataFrame[DataFrame.Sex == \"female\"].Sex.count() \n",
    "    pasajeros_h =(hombres *100) /total_registros\n",
    "    pasajeros_m = (mujeres *100) /total_registros\n",
    "    return pasajeros_h,pasajeros_m\n"
   ]
  },
  {
   "cell_type": "markdown",
   "metadata": {},
   "source": [
    "## Ejercicio 5\n",
    "\n",
    "\n",
    "Implementa una función llamada ejercicio5 que recibiendo el dataframe con los datos del Titanic, devuelva en una lista el número de pasajeros que viajaban en 1ª, 2ª y 3ª clase."
   ]
  },
  {
   "cell_type": "code",
   "execution_count": 5,
   "metadata": {},
   "outputs": [],
   "source": [
    "def ejercicio5(dataframe):\n",
    "    lista = []\n",
    "    lista.insert(0, dataframe[(dataframe.Pclass == 1)].Pclass.count())\n",
    "    lista.insert(1, dataframe[(dataframe.Pclass == 2)].Pclass.count())\n",
    "    lista.insert(2, dataframe[(dataframe.Pclass == 3)].Pclass.count())\n",
    "    return lista\n",
    "    "
   ]
  }
 ],
 "metadata": {
  "kernelspec": {
   "display_name": "Python 3",
   "language": "python",
   "name": "python3"
  },
  "language_info": {
   "codemirror_mode": {
    "name": "ipython",
    "version": 3
   },
   "file_extension": ".py",
   "mimetype": "text/x-python",
   "name": "python",
   "nbconvert_exporter": "python",
   "pygments_lexer": "ipython3",
   "version": "3.8.6"
  }
 },
 "nbformat": 4,
 "nbformat_minor": 2
}
