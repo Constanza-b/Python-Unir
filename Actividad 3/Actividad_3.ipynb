{
 "cells": [
  {
   "cell_type": "markdown",
   "metadata": {},
   "source": [
    "En la siguiente celda, completa los siguientes ejercicios:\n",
    "\n",
    "## Ejercicio 1\n",
    "\n",
    "Escribe una clase llamada Numero. Esta clase debe tener una constructora que reciba un número y almacene ese número en 2 atributos: romano que almacenará el número en el formato de número romanos como una cadena de caracteres y normal que guardará el número que nos han dado en la constructora.\n",
    "\n",
    "## Ejercicio 2\n",
    "\n",
    "Crea dos nuevos métodos en la clase Numero. El primer método, llamado imprime(), imprime un mensaje mostrando el valor de ambos atributos; el segundo método, llamado suma_romano(), tendrá como parámetros una cadena de caracteres que representará otro número romano y que sumaremos a los atributos que ya teníamos.\n",
    "\n",
    "**NOTA:** si necesita convertir el número romano a número normal para realizar las operaciones implemente un nuevo método.\n",
    "\n",
    "## Ejercicio 3\n",
    "\n",
    "Define una función llamada is_romano() dentro de la clase Numero que a partir de una cadena de caracteres, devuelve True si esa cadena de caracteres corresponde con un número romano y falso en caso contrario. Después, modifica el método para que lance un error en el caso de que el valor que nos pasan por parámetro no se corresponde con el patrón de un número romano."
   ]
  },
  {
   "cell_type": "code",
   "execution_count": 8,
   "metadata": {},
   "outputs": [
    {
     "name": "stdout",
     "output_type": "stream",
     "text": [
      "62 LXII\n",
      "None\n"
     ]
    }
   ],
   "source": [
    "class Numero:\n",
    "\n",
    "    def __init__(self, numero):\n",
    "        self.romano = self.convertir_a_romano(numero)\n",
    "        self.normal = numero\n",
    "\n",
    "    def convertir_a_romano(self, numero):\n",
    "        valores = [1000, 900, 500, 400, 100, 90, 50, 40, 10, 9, 5, 4, 1]\n",
    "        simbolos = ['M', 'CM', 'D', 'CD', 'C', 'XC', 'L', 'XL', 'X', 'IX', 'V', 'IV', 'I']\n",
    "        numero_romano = ''\n",
    "        i = 0\n",
    "\n",
    "        while numero > 0:\n",
    "            for _ in range(numero // valores[i]):\n",
    "                numero_romano += simbolos[i]\n",
    "                numero -= valores[i]\n",
    "            i += 1\n",
    "\n",
    "        return numero_romano\n",
    "\n",
    "\n",
    "    def imprime(self):\n",
    "        print(self.normal, self.romano)\n",
    "    \n",
    "    def convertir_a_normal(self, numero_romano):\n",
    "        romano_a_normal = {\n",
    "            'I': 1, 'V': 5, 'X': 10, 'L': 50, 'C': 100, 'D': 500, 'M': 1000\n",
    "        }\n",
    "        numero_normal = 0\n",
    "        prev_valor = 0\n",
    "\n",
    "        for simbolo in numero_romano[::-1]:\n",
    "            valor = romano_a_normal[simbolo]\n",
    "            if valor < prev_valor:\n",
    "                numero_normal -= valor\n",
    "            else:\n",
    "                numero_normal += valor\n",
    "            prev_valor = valor\n",
    "\n",
    "        return numero_normal\n",
    "\n",
    "    def suma_romano(self, numero_romano):\n",
    "        numero_normal_otro = self.convertir_a_normal(numero_romano)\n",
    "        self.normal += numero_normal_otro\n",
    "        self.romano = self.convertir_a_romano(self.normal)\n",
    "\n",
    "    def is_romano(self, cadena):\n",
    "        romano_valido = \"IVXLCDM\"\n",
    "        for letra in cadena:\n",
    "            if letra not in romano_valido:\n",
    "                return False\n",
    "\n",
    "        return True\n",
    "\n",
    "    def convertir_a_romano3(self, numero):\n",
    "        if not self.is_romano(str(numero)):\n",
    "            raise ValueError(\"El valor no es un número romano válido.\")\n",
    "       \n",
    "        \n",
    "    def suma_romano3(self, numero_romano):\n",
    "        \n",
    "        try:\n",
    "            if not self.is_romano(numero_romano):\n",
    "                raise ValueError(\"El valor a sumar no es un número romano válido.\")     \n",
    "            \n",
    "            numero_normal_otro = self.convertir_a_normal(numero_romano)\n",
    "            self.normal += numero_normal_otro\n",
    "            self.romano = self.convertir_a_romano3(self.normal)\n",
    "            \n",
    "        except ValueError as error:\n",
    "            print(\"He detectado un error: \",error)\n",
    "\n",
    "\n",
    "mi_numero.suma_romano(\"X\")\n",
    "print(mi_numero.imprime())\n"
   ]
  },
  {
   "cell_type": "markdown",
   "metadata": {},
   "source": [
    "En la siguiente celda, completa los siguientes ejercicios:\n",
    "\n",
    "## Ejercicio 4\n",
    "\n",
    "Implementa una clase llamada MejorNumero. Esta clase heredará las propiedades de Numero e incluirá dos métodos nuevos, llamados resta() y multiplica(), para restar y multiplicar los atributos recibiendo por parámetro otro número romano. \n",
    "\n",
    "\n",
    "## Ejercicio 5\n",
    "\n",
    "En la clase MejorNumero, crea un nuevo método llamado iterar() que reciba una lista con 3 números romanos. A continuación, iterando sobre los elementos de la lista llamará a la función suma_romano(). Los posibles errores se tendrán que gestionar con excepciones (try...except...) para mostrar un mensaje y seguir ejecutando el siguiente número.\n",
    "\n",
    "**NOTA:** el mensaje de error ha de seguir el siguiente formato --> print('Ha fallado el número', 5). "
   ]
  },
  {
   "cell_type": "code",
   "execution_count": 9,
   "metadata": {},
   "outputs": [
    {
     "name": "stdout",
     "output_type": "stream",
     "text": [
      "CXXIII\n",
      "123\n",
      "2137 MMCXXXVII\n",
      "None\n"
     ]
    }
   ],
   "source": [
    "class MejorNumero(Numero):\n",
    "    def resta(self, numero_romano):\n",
    "        try:\n",
    "            numero_normal_otro = self.convertir_a_normal(numero_romano)\n",
    "            self.normal -= numero_normal_otro\n",
    "            self.romano = self.convertir_a_romano(self.normal)\n",
    "        except ValueError as error:\n",
    "            print(f'Ha fallado la resta: {error}')\n",
    "\n",
    "    def multiplica(self, numero_romano):\n",
    "        try:\n",
    "            numero_normal_otro = self.convertir_a_normal(numero_romano)\n",
    "            self.normal *= numero_normal_otro\n",
    "            self.romano = self.convertir_a_romano(self.normal)\n",
    "        except ValueError as error:\n",
    "            print(f'Ha fallado la multiplicación: {error}')\n",
    "            \n",
    "    def iterar(self, lista_numeros_romanos):\n",
    "        for i, numero_romano in enumerate(lista_numeros_romanos, 1):\n",
    "            try:\n",
    "                self.suma_romano(numero_romano)\n",
    "            except ValueError as error:\n",
    "                print(f'Ha fallado el número {i}: {error}')\n",
    "\n",
    "# Ejemplo de uso:\n",
    "mi_mejor_numero = MejorNumero(123)\n",
    "print(mi_mejor_numero.romano)\n",
    "print(mi_mejor_numero.normal)\n",
    "\n",
    "# Iterar sobre una lista de números romanos\n",
    "numeros_romanos = [\"XX\", \"IV\", \"MCMXC\"]\n",
    "mi_mejor_numero.iterar(numeros_romanos)\n",
    "print(mi_mejor_numero.imprime())\n"
   ]
  },
  {
   "cell_type": "code",
   "execution_count": null,
   "metadata": {},
   "outputs": [],
   "source": []
  }
 ],
 "metadata": {
  "kernelspec": {
   "display_name": "Python 3 (ipykernel)",
   "language": "python",
   "name": "python3"
  },
  "language_info": {
   "codemirror_mode": {
    "name": "ipython",
    "version": 3
   },
   "file_extension": ".py",
   "mimetype": "text/x-python",
   "name": "python",
   "nbconvert_exporter": "python",
   "pygments_lexer": "ipython3",
   "version": "3.11.5"
  }
 },
 "nbformat": 4,
 "nbformat_minor": 2
}
