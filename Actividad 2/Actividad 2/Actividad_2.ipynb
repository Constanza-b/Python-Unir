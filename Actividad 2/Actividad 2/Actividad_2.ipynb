{
 "cells": [
  {
   "cell_type": "markdown",
   "metadata": {},
   "source": [
    "## Ejercicio 1\n",
    "\n",
    "Escribe una función llamada ejercicio1 que genere una lista con 15 valores enteros aleatorios que vayan de 1 a 100. La función debe devolver la lista con todos los valores.\n"
   ]
  },
  {
   "cell_type": "code",
   "execution_count": 1,
   "metadata": {},
   "outputs": [
    {
     "name": "stdout",
     "output_type": "stream",
     "text": [
      "[31, 80, 14, 64, 82, 33, 42, 14, 92, 51, 97, 80, 1, 52, 90]\n"
     ]
    }
   ],
   "source": [
    "import random\n",
    "\n",
    "def ejercicio1():\n",
    "    lista_valores = []\n",
    "    for i in range(15):\n",
    "       valor = random.randint(1,100)\n",
    "       lista_valores.append(valor)\n",
    "    return lista_valores\n",
    "\n",
    "valores = ejercicio1()\n",
    "print(valores)"
   ]
  },
  {
   "cell_type": "markdown",
   "metadata": {},
   "source": [
    "## Ejercicio 2\n",
    "\n",
    "Escribe una función llamada ejercicio2 que recibe 2 argumentos: el primero será la lista que hemos implementado en el Ejercicio 1 y el segundo un número por el que se dividirá cada uno de los elementos de la lista. El resultado será una nueva lista."
   ]
  },
  {
   "cell_type": "code",
   "execution_count": 3,
   "metadata": {},
   "outputs": [
    {
     "name": "stdout",
     "output_type": "stream",
     "text": [
      "[1.0972222222222223, 1.0694444444444444, 0.6805555555555556, 1.1527777777777777, 0.2777777777777778, 1.3472222222222223, 0.4027777777777778, 1.0, 0.2361111111111111, 0.8055555555555556, 1.375, 0.16666666666666666, 0.9444444444444444, 0.1111111111111111, 0.9444444444444444]\n"
     ]
    }
   ],
   "source": [
    "import random\n",
    "\n",
    "def ejercicio1():\n",
    "    lista_valores = []\n",
    "    for i in range(15):\n",
    "       valor = random.randint(1,100)\n",
    "       lista_valores.append(valor)\n",
    "    return lista_valores\n",
    "\n",
    "def ejercicio2(lista, divisor):\n",
    "    nueva_lista = []\n",
    "\n",
    "    for elemento in lista:\n",
    "        resultado = elemento / divisor\n",
    "        nueva_lista.append(resultado)\n",
    "\n",
    "    return nueva_lista\n",
    "\n",
    "valores_aleatorios = ejercicio1()\n",
    "divisor_aleatorio = random.randint(1,100)\n",
    "nueva_lista = ejercicio2(valores_aleatorios, divisor_aleatorio)\n",
    "\n",
    "print(nueva_lista)"
   ]
  },
  {
   "cell_type": "markdown",
   "metadata": {},
   "source": [
    "## Ejercicio 3\n",
    "\n",
    "Asigna a una variable llamada ejercicio3 una función anónima que cree una nueva lista que contenga únicamente los valores enteros de cada uno de los elementos de la lista que ha devuelto la función implementada para el ejercicio 2."
   ]
  },
  {
   "cell_type": "code",
   "execution_count": 2,
   "metadata": {},
   "outputs": [
    {
     "name": "stdout",
     "output_type": "stream",
     "text": [
      "[2, 0, 1, 1, 2, 2, 2, 1, 2, 0, 2, 1, 1, 1, 2]\n"
     ]
    }
   ],
   "source": [
    "import random\n",
    "\n",
    "def ejercicio1():\n",
    "    lista_valores = []\n",
    "    for i in range(15):\n",
    "       valor = random.randint(1,100)\n",
    "       lista_valores.append(valor)\n",
    "    return lista_valores\n",
    "\n",
    "def ejercicio2(lista, divisor):\n",
    "    nueva_lista = []\n",
    "\n",
    "    for elemento in lista:\n",
    "        resultado = elemento / divisor\n",
    "        nueva_lista.append(resultado)\n",
    "\n",
    "    return nueva_lista\n",
    "\n",
    "valores_aleatorios = ejercicio1()\n",
    "divisor_aleatorio = random.randint(1,100)\n",
    "nueva_lista = ejercicio2(valores_aleatorios, divisor_aleatorio)\n",
    "\n",
    "ejercicio3 = lambda elemento: int(elemento)\n",
    "resutado= list(map(ejercicio3, nueva_lista))\n",
    "print(resutado)"
   ]
  },
  {
   "cell_type": "markdown",
   "metadata": {},
   "source": [
    "## Ejercicio 4\n",
    "\n",
    "Implementa una función, llamada ejercicio4, que reciba como argumentos dos números enteros y devuelva en una tupla los siguientes valores: el factorial del primer argumento y el máximo común divisor de ambos argumentos."
   ]
  },
  {
   "cell_type": "code",
   "execution_count": 7,
   "metadata": {},
   "outputs": [
    {
     "name": "stdout",
     "output_type": "stream",
     "text": [
      "(120, 5)\n"
     ]
    }
   ],
   "source": [
    "import math\n",
    "\n",
    "def ejercicio4(num1,num2):\n",
    "    factorial_num1 = math.factorial(num1)\n",
    "    mcd_num1_num2 = math.gcd(num1,num2)\n",
    "    return factorial_num1, mcd_num1_num2\n",
    "\n",
    "operaciones = ejercicio4(5,15)\n",
    "print(operaciones)"
   ]
  },
  {
   "cell_type": "markdown",
   "metadata": {},
   "source": [
    "## Ejercicio 5\n",
    "\n",
    "Crea una función ejercicio5 que devuelva una lista con todos los valores contenidos en una lista que se pasa por argumento pero eliminando los valores repetidos. Prueba el funcionamiento de esta función con la lista obtenida en el Ejercicio 1."
   ]
  },
  {
   "cell_type": "code",
   "execution_count": 8,
   "metadata": {},
   "outputs": [
    {
     "name": "stdout",
     "output_type": "stream",
     "text": [
      "[71, 65, 2, 97, 25, 74, 75, 24, 79, 62, 6, 53, 83]\n"
     ]
    }
   ],
   "source": [
    "def ejercicio5(lista):\n",
    "    esta_repetido = lambda x : lista.count(x) == 1\n",
    "    lista_filtrada = list(filter(esta_repetido, lista))\n",
    "    return lista_filtrada\n",
    "\n",
    "lista_ejer1 = [71, 65, 2, 97, 25, 74, 75, 24, 79, 63, 62, 6, 53, 83, 63]\n",
    "\n",
    "resultado = ejercicio5(lista_ejer1)\n",
    "print(resultado)"
   ]
  }
 ],
 "metadata": {
  "kernelspec": {
   "display_name": "Python 3 (ipykernel)",
   "language": "python",
   "name": "python3"
  },
  "language_info": {
   "codemirror_mode": {
    "name": "ipython",
    "version": 3
   },
   "file_extension": ".py",
   "mimetype": "text/x-python",
   "name": "python",
   "nbconvert_exporter": "python",
   "pygments_lexer": "ipython3",
   "version": "3.11.5"
  }
 },
 "nbformat": 4,
 "nbformat_minor": 2
}
