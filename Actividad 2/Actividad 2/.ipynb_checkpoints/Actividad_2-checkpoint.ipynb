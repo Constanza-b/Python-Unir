{
 "cells": [
  {
   "cell_type": "markdown",
   "metadata": {},
   "source": [
    "## Ejercicio 1\n",
    "\n",
    "Escribe una función llamada ejercicio1 que genere una lista con 15 valores enteros aleatorios que vayan de 1 a 100. La función debe devolver la lista con todos los valores.\n"
   ]
  },
  {
   "cell_type": "code",
   "execution_count": 3,
   "metadata": {},
   "outputs": [
    {
     "name": "stdout",
     "output_type": "stream",
     "text": [
      "[71, 65, 2, 97, 25, 74, 75, 24, 79, 63, 62, 6, 53, 83, 63]\n"
     ]
    }
   ],
   "source": [
    "import random\n",
    "\n",
    "def ejercicio1():\n",
    "    lista_valores = []\n",
    "    for i in range(15):\n",
    "       valor = random.randint(1,100)\n",
    "       lista_valores.append(valor)\n",
    "    return lista_valores\n",
    "\n",
    "valores = ejercicio1()\n",
    "print(valores)"
   ]
  },
  {
   "cell_type": "markdown",
   "metadata": {},
   "source": [
    "## Ejercicio 2\n",
    "\n",
    "Escribe una función llamada ejercicio2 que recibe 2 argumentos: el primero será la lista que hemos implementado en el Ejercicio 1 y el segundo un número por el que se dividirá cada uno de los elementos de la lista. El resultado será una nueva lista."
   ]
  },
  {
   "cell_type": "code",
   "execution_count": 5,
   "metadata": {},
   "outputs": [
    {
     "name": "stdout",
     "output_type": "stream",
     "text": [
      "[55, 32, 13, 30, 59, 94, 89, 63, 93, 59, 85, 62, 34, 9, 53]\n",
      "28\n",
      "[1.9642857142857142, 1.1428571428571428, 0.4642857142857143, 1.0714285714285714, 2.107142857142857, 3.357142857142857, 3.1785714285714284, 2.25, 3.3214285714285716, 2.107142857142857, 3.0357142857142856, 2.2142857142857144, 1.2142857142857142, 0.32142857142857145, 1.8928571428571428]\n"
     ]
    }
   ],
   "source": [
    "import random\n",
    "\n",
    "def ejercicio1():\n",
    "    lista_valores = []\n",
    "    for i in range(15):\n",
    "       valor = random.randint(1,100)\n",
    "       lista_valores.append(valor)\n",
    "    return lista_valores\n",
    "\n",
    "def ejercicio2(lista, divisor):\n",
    "    nueva_lista = []\n",
    "\n",
    "    for elemento in lista:\n",
    "        resultado = elemento / divisor\n",
    "        nueva_lista.append(resultado)\n",
    "\n",
    "    return nueva_lista\n",
    "\n",
    "valores_aleatorios = ejercicio1()\n",
    "divisor_aleatorio = random.randint(1,100)\n",
    "nueva_lista = ejercicio2(valores_aleatorios, divisor_aleatorio)\n",
    "\n",
    "print(valores_aleatorios)\n",
    "print(divisor_aleatorio)\n",
    "print(nueva_lista)"
   ]
  },
  {
   "cell_type": "markdown",
   "metadata": {},
   "source": [
    "## Ejercicio 3\n",
    "\n",
    "Asigna a una variable llamada ejercicio3 una función anónima que cree una nueva lista que contenga únicamente los valores enteros de cada uno de los elementos de la lista que ha devuelto la función implementada para el ejercicio 2."
   ]
  },
  {
   "cell_type": "code",
   "execution_count": 6,
   "metadata": {},
   "outputs": [
    {
     "name": "stdout",
     "output_type": "stream",
     "text": [
      "[29, 45, 55, 68, 62, 71, 95, 56, 19, 81, 90, 27, 26, 83, 58]\n",
      "86\n",
      "[0.3372093023255814, 0.5232558139534884, 0.6395348837209303, 0.7906976744186046, 0.7209302325581395, 0.8255813953488372, 1.1046511627906976, 0.6511627906976745, 0.22093023255813954, 0.9418604651162791, 1.0465116279069768, 0.313953488372093, 0.3023255813953488, 0.9651162790697675, 0.6744186046511628]\n",
      "[0, 0, 0, 0, 0, 0, 1, 0, 0, 0, 1, 0, 0, 0, 0]\n"
     ]
    }
   ],
   "source": [
    "import random\n",
    "\n",
    "def ejercicio1():\n",
    "    lista_valores = []\n",
    "    for i in range(15):\n",
    "       valor = random.randint(1,100)\n",
    "       lista_valores.append(valor)\n",
    "    return lista_valores\n",
    "\n",
    "def ejercicio2(lista, divisor):\n",
    "    nueva_lista = []\n",
    "\n",
    "    for elemento in lista:\n",
    "        resultado = elemento / divisor\n",
    "        nueva_lista.append(resultado)\n",
    "\n",
    "    return nueva_lista\n",
    "\n",
    "valores_aleatorios = ejercicio1()\n",
    "divisor_aleatorio = random.randint(1,100)\n",
    "nueva_lista = ejercicio2(valores_aleatorios, divisor_aleatorio)\n",
    "\n",
    "print(valores_aleatorios)\n",
    "print(divisor_aleatorio)\n",
    "print(nueva_lista)\n",
    "\n",
    "ejercicio3 = lambda elemento: int(elemento)\n",
    "resutado= list(map(ejercicio3, nueva_lista))\n",
    "print(resutado)"
   ]
  },
  {
   "cell_type": "markdown",
   "metadata": {},
   "source": [
    "## Ejercicio 4\n",
    "\n",
    "Implementa una función, llamada ejercicio4, que reciba como argumentos dos números enteros y devuelva en una tupla los siguientes valores: el factorial del primer argumento y el máximo común divisor de ambos argumentos."
   ]
  },
  {
   "cell_type": "code",
   "execution_count": 7,
   "metadata": {},
   "outputs": [
    {
     "name": "stdout",
     "output_type": "stream",
     "text": [
      "(120, 5)\n"
     ]
    }
   ],
   "source": [
    "import math\n",
    "\n",
    "def ejercicio4(num1,num2):\n",
    "    factorial_num1 = math.factorial(num1)\n",
    "    mcd_num1_num2 = math.gcd(num1,num2)\n",
    "    return factorial_num1, mcd_num1_num2\n",
    "\n",
    "operaciones = ejercicio4(5,15)\n",
    "print(operaciones)"
   ]
  },
  {
   "cell_type": "markdown",
   "metadata": {},
   "source": [
    "## Ejercicio 5\n",
    "\n",
    "Crea una función ejercicio5 que devuelva una lista con todos los valores contenidos en una lista que se pasa por argumento pero eliminando los valores repetidos. Prueba el funcionamiento de esta función con la lista obtenida en el Ejercicio 1."
   ]
  },
  {
   "cell_type": "code",
   "execution_count": 8,
   "metadata": {},
   "outputs": [
    {
     "name": "stdout",
     "output_type": "stream",
     "text": [
      "[71, 65, 2, 97, 25, 74, 75, 24, 79, 62, 6, 53, 83]\n"
     ]
    }
   ],
   "source": [
    "def ejercicio5(lista):\n",
    "    esta_repetido = lambda x : lista.count(x) == 1\n",
    "    lista_filtrada = list(filter(esta_repetido, lista))\n",
    "    return lista_filtrada\n",
    "\n",
    "lista_ejer1 = [71, 65, 2, 97, 25, 74, 75, 24, 79, 63, 62, 6, 53, 83, 63]\n",
    "\n",
    "resultado = ejercicio5(lista_ejer1)\n",
    "print(resultado)"
   ]
  }
 ],
 "metadata": {
  "kernelspec": {
   "display_name": "Python 3 (ipykernel)",
   "language": "python",
   "name": "python3"
  },
  "language_info": {
   "codemirror_mode": {
    "name": "ipython",
    "version": 3
   },
   "file_extension": ".py",
   "mimetype": "text/x-python",
   "name": "python",
   "nbconvert_exporter": "python",
   "pygments_lexer": "ipython3",
   "version": "3.11.5"
  }
 },
 "nbformat": 4,
 "nbformat_minor": 2
}
